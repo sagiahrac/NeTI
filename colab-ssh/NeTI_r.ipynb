{
  "cells": [
    {
      "cell_type": "code",
      "execution_count": null,
      "metadata": {
        "colab": {
          "base_uri": "https://localhost:8080/",
          "height": 708
        },
        "id": "a4Ck4RLJ_DtZ",
        "outputId": "68f2bed7-9b1f-4169-e394-dd593226412a"
      },
      "outputs": [],
      "source": [
        "!git clone https://github.com/sagiahrac/NeTI.git\n",
        "!git clone https://github.com/WassimBenzarti/colab-ssh.git\n",
        "%cd /content/colab-ssh\n",
        "\n",
        "!pip install .\n",
        "from colab_ssh import launch_ssh_cloudflared, init_git_cloudflared\n",
        "launch_ssh_cloudflared(password=\"sagi6\")"
      ]
    },
    {
      "cell_type": "code",
      "execution_count": null,
      "metadata": {
        "id": "9FX8f2M-yRP4"
      },
      "outputs": [],
      "source": [
        "# Install mamba\n",
        "!pip install -q condacolab\n",
        "import condacolab\n",
        "condacolab.install()\n",
        "\n",
        "# Drive mount\n",
        "from google.colab import drive\n",
        "drive.mount('/content/drive')\n",
        "\n",
        "# Setup environment\n",
        "%cd /content/NeTI\n",
        "!mamba install go-task\n",
        "!task setup-colab"
      ]
    }
  ],
  "metadata": {
    "accelerator": "GPU",
    "colab": {
      "gpuType": "T4",
      "provenance": []
    },
    "kernelspec": {
      "display_name": "Python 3",
      "name": "python3"
    },
    "language_info": {
      "name": "python"
    }
  },
  "nbformat": 4,
  "nbformat_minor": 0
}
